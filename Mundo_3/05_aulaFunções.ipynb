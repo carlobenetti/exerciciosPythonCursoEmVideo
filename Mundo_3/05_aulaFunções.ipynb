{
 "cells": [
  {
   "cell_type": "code",
   "execution_count": 1,
   "metadata": {},
   "outputs": [],
   "source": [
    "def continhaDoPai(a, b):\n",
    "    s = a + b\n",
    "    print(f'A soma resltou em: {s}')"
   ]
  },
  {
   "cell_type": "code",
   "execution_count": 2,
   "metadata": {},
   "outputs": [
    {
     "name": "stdout",
     "output_type": "stream",
     "text": [
      "A soma resltou em: 55\n",
      "A soma resltou em: 55\n"
     ]
    }
   ],
   "source": [
    "# Programa principal\n",
    "continhaDoPai(a=25, b=30)\n",
    "continhaDoPai(b=25, a=30)\n"
   ]
  }
 ],
 "metadata": {
  "kernelspec": {
   "display_name": "Python 3",
   "language": "python",
   "name": "python3"
  },
  "language_info": {
   "codemirror_mode": {
    "name": "ipython",
    "version": 3
   },
   "file_extension": ".py",
   "mimetype": "text/x-python",
   "name": "python",
   "nbconvert_exporter": "python",
   "pygments_lexer": "ipython3",
   "version": "3.13.3"
  }
 },
 "nbformat": 4,
 "nbformat_minor": 2
}
