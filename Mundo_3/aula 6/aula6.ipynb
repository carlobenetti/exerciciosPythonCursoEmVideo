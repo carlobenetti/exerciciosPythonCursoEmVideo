{
 "cells": [
  {
   "cell_type": "markdown",
   "id": "d1cea5d1",
   "metadata": {},
   "source": [
    "### Interactive help"
   ]
  },
  {
   "cell_type": "code",
   "execution_count": 1,
   "id": "bfd84057",
   "metadata": {},
   "outputs": [
    {
     "name": "stdout",
     "output_type": "stream",
     "text": [
      "Help on built-in function print in module builtins:\n",
      "\n",
      "print(*args, sep=' ', end='\\n', file=None, flush=False)\n",
      "    Prints the values to a stream, or to sys.stdout by default.\n",
      "\n",
      "    sep\n",
      "      string inserted between values, default a space.\n",
      "    end\n",
      "      string appended after the last value, default a newline.\n",
      "    file\n",
      "      a file-like object (stream); defaults to the current sys.stdout.\n",
      "    flush\n",
      "      whether to forcibly flush the stream.\n",
      "\n"
     ]
    }
   ],
   "source": [
    "help(print)"
   ]
  },
  {
   "cell_type": "code",
   "execution_count": 2,
   "id": "f9b3927b",
   "metadata": {},
   "outputs": [
    {
     "name": "stdout",
     "output_type": "stream",
     "text": [
      "Forward raw_input to frontends\n",
      "\n",
      "Raises\n",
      "------\n",
      "StdinNotImplementedError if active frontend doesn't support stdin.\n",
      "\n"
     ]
    }
   ],
   "source": [
    "print(input.__doc__)"
   ]
  },
  {
   "cell_type": "code",
   "execution_count": 3,
   "id": "68e2b934",
   "metadata": {},
   "outputs": [
    {
     "name": "stdout",
     "output_type": "stream",
     "text": [
      "10 12 14 16 18 20 Fim\n"
     ]
    }
   ],
   "source": [
    "def contador(i, p, f):\n",
    "    ''' Os primeiros passos necessários são:\n",
    "    - Abraçar os animais\n",
    "    - Abraçar as plantas\n",
    "    - Plantar\n",
    "    '''\n",
    "    from time import sleep\n",
    "    c = i\n",
    "    while c <= f:\n",
    "        print(f'{c}', end=' ', flush=' ')\n",
    "        sleep(0.23)\n",
    "        c += p\n",
    "    print(f'Fim')\n",
    "contador(10, 2, 20)\n"
   ]
  },
  {
   "cell_type": "code",
   "execution_count": 4,
   "id": "07322dea",
   "metadata": {},
   "outputs": [
    {
     "name": "stdout",
     "output_type": "stream",
     "text": [
      "Help on function contador in module __main__:\n",
      "\n",
      "contador(i, p, f)\n",
      "    Os primeiros passos necessários são:\n",
      "    - Abraçar os animais\n",
      "    - Abraçar as plantas\n",
      "    - Plantar\n",
      "\n"
     ]
    }
   ],
   "source": [
    "help(contador)"
   ]
  },
  {
   "cell_type": "markdown",
   "id": "f219d929",
   "metadata": {},
   "source": [
    "### Valor de retorno      RETURN"
   ]
  },
  {
   "cell_type": "code",
   "execution_count": null,
   "id": "e33aa30e",
   "metadata": {},
   "outputs": [
    {
     "name": "stdout",
     "output_type": "stream",
     "text": [
      "O valor retornado será: 12\n"
     ]
    }
   ],
   "source": [
    "def somar(a=0, b=0, c=0):\n",
    "    s = a+b+b\n",
    "    return s\n",
    "\n",
    "print(f'O valor retornado será: {somar(2, 5- )}')"
   ]
  }
 ],
 "metadata": {
  "kernelspec": {
   "display_name": "Python 3",
   "language": "python",
   "name": "python3"
  },
  "language_info": {
   "codemirror_mode": {
    "name": "ipython",
    "version": 3
   },
   "file_extension": ".py",
   "mimetype": "text/x-python",
   "name": "python",
   "nbconvert_exporter": "python",
   "pygments_lexer": "ipython3",
   "version": "3.13.3"
  }
 },
 "nbformat": 4,
 "nbformat_minor": 5
}
