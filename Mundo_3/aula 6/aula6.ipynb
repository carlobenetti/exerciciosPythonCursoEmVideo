{
 "cells": [
  {
   "cell_type": "markdown",
   "id": "d1cea5d1",
   "metadata": {},
   "source": [
    "## Interactive help"
   ]
  },
  {
   "cell_type": "code",
   "execution_count": 1,
   "id": "bfd84057",
   "metadata": {},
   "outputs": [
    {
     "name": "stdout",
     "output_type": "stream",
     "text": [
      "Help on built-in function print in module builtins:\n",
      "\n",
      "print(*args, sep=' ', end='\\n', file=None, flush=False)\n",
      "    Prints the values to a stream, or to sys.stdout by default.\n",
      "\n",
      "    sep\n",
      "      string inserted between values, default a space.\n",
      "    end\n",
      "      string appended after the last value, default a newline.\n",
      "    file\n",
      "      a file-like object (stream); defaults to the current sys.stdout.\n",
      "    flush\n",
      "      whether to forcibly flush the stream.\n",
      "\n"
     ]
    }
   ],
   "source": [
    "help(print)"
   ]
  },
  {
   "cell_type": "code",
   "execution_count": 2,
   "id": "f9b3927b",
   "metadata": {},
   "outputs": [
    {
     "name": "stdout",
     "output_type": "stream",
     "text": [
      "Forward raw_input to frontends\n",
      "\n",
      "Raises\n",
      "------\n",
      "StdinNotImplementedError if active frontend doesn't support stdin.\n",
      "\n"
     ]
    }
   ],
   "source": [
    "print(input.__doc__)"
   ]
  },
  {
   "cell_type": "code",
   "execution_count": 3,
   "id": "68e2b934",
   "metadata": {},
   "outputs": [
    {
     "name": "stdout",
     "output_type": "stream",
     "text": [
      "10 12 14 16 18 20 Fim\n"
     ]
    }
   ],
   "source": [
    "def contador(i, p, f):\n",
    "    ''' Os primeiros passos necessários são:\n",
    "    - Abraçar os animais\n",
    "    - Abraçar as plantas\n",
    "    - Plantar\n",
    "    '''\n",
    "    from time import sleep\n",
    "    c = i\n",
    "    while c <= f:\n",
    "        print(f'{c}', end=' ', flush=' ')\n",
    "        sleep(0.23)\n",
    "        c += p\n",
    "    print(f'Fim')\n",
    "contador(10, 2, 20)\n"
   ]
  },
  {
   "cell_type": "code",
   "execution_count": 4,
   "id": "07322dea",
   "metadata": {},
   "outputs": [
    {
     "name": "stdout",
     "output_type": "stream",
     "text": [
      "Help on function contador in module __main__:\n",
      "\n",
      "contador(i, p, f)\n",
      "    Os primeiros passos necessários são:\n",
      "    - Abraçar os animais\n",
      "    - Abraçar as plantas\n",
      "    - Plantar\n",
      "\n"
     ]
    }
   ],
   "source": [
    "help(contador)"
   ]
  },
  {
   "cell_type": "markdown",
   "id": "f219d929",
   "metadata": {},
   "source": [
    "## Valor de retorno      RETURN"
   ]
  },
  {
   "cell_type": "markdown",
   "id": "dd8d0755",
   "metadata": {},
   "source": [
    "##### O RETURN pode devolver não só valores, mas também True or False, Listas, Dicionários, Tuplas..."
   ]
  },
  {
   "cell_type": "code",
   "execution_count": 13,
   "id": "e33aa30e",
   "metadata": {},
   "outputs": [
    {
     "name": "stdout",
     "output_type": "stream",
     "text": [
      "\n",
      "      Os resultados são:\n",
      "      R1 = 30\n",
      "      R2 = 130\n",
      "      \n"
     ]
    }
   ],
   "source": [
    "def somar(a=0, b=0, c=0):\n",
    "    soma = a + b + c\n",
    "    return soma\n",
    "\n",
    "r1 = somar(10, 20)\n",
    "r2 = somar(20, 50, 60)\n",
    "\n",
    "\n",
    "print(f'''\n",
    "      Os resultados são:\n",
    "      R1 = {r1}\n",
    "      R2 = {r2}\n",
    "      ''')"
   ]
  },
  {
   "cell_type": "code",
   "execution_count": 1,
   "id": "00b0f99a",
   "metadata": {},
   "outputs": [
    {
     "ename": "ValueError",
     "evalue": "invalid literal for int() with base 10: ''",
     "output_type": "error",
     "traceback": [
      "\u001b[31m---------------------------------------------------------------------------\u001b[39m",
      "\u001b[31mValueError\u001b[39m                                Traceback (most recent call last)",
      "\u001b[36mCell\u001b[39m\u001b[36m \u001b[39m\u001b[32mIn[1]\u001b[39m\u001b[32m, line 7\u001b[39m\n\u001b[32m      4\u001b[39m         f *= i\n\u001b[32m      5\u001b[39m         \u001b[38;5;28;01mreturn\u001b[39;00m f\n\u001b[32m----> \u001b[39m\u001b[32m7\u001b[39m n = \u001b[38;5;28;43mint\u001b[39;49m\u001b[43m(\u001b[49m\u001b[38;5;28;43minput\u001b[39;49m\u001b[43m(\u001b[49m\u001b[33;43m'\u001b[39;49m\u001b[33;43mDigite um número: \u001b[39;49m\u001b[33;43m'\u001b[39;49m\u001b[43m)\u001b[49m\u001b[43m)\u001b[49m\n\u001b[32m      8\u001b[39m \u001b[38;5;28mprint\u001b[39m(\u001b[33mf\u001b[39m\u001b[33m'\u001b[39m\u001b[33mO fatorial de \u001b[39m\u001b[38;5;132;01m{\u001b[39;00mn\u001b[38;5;132;01m}\u001b[39;00m\u001b[33m é igual a \u001b[39m\u001b[38;5;132;01m{\u001b[39;00mfatorial(n)\u001b[38;5;132;01m}\u001b[39;00m\u001b[33m'\u001b[39m)\n",
      "\u001b[31mValueError\u001b[39m: invalid literal for int() with base 10: ''"
     ]
    }
   ],
   "source": [
    "def fatorial(num = 0):\n",
    "    f = 1\n",
    "    for i in range(num, 0, -1):\n",
    "        f *= i\n",
    "        return f\n",
    "    \n",
    "n = int(input('Digite um número: '))\n",
    "print(f'O fatorial de {n} é igual a {fatorial(n)}')"
   ]
  },
  {
   "cell_type": "code",
   "execution_count": null,
   "id": "b6e963a0",
   "metadata": {},
   "outputs": [],
   "source": [
    "def fatorial(num=1):\n",
    "    f = 1\n",
    "    for c in range(num, 0, -1):\n",
    "        f *= c\n",
    "    return f\n",
    "\n",
    "n = int(input('Digite um número: '))\n",
    "print(f'O fatorial de {n} é igual a {fatorial(n)}')"
   ]
  },
  {
   "cell_type": "markdown",
   "id": "486598b8",
   "metadata": {},
   "source": [
    "### Poder ser retornado também um True or Falso."
   ]
  },
  {
   "cell_type": "code",
   "execution_count": null,
   "id": "2ba90439",
   "metadata": {},
   "outputs": [],
   "source": [
    "def par(num=0):\n",
    "    if num % 2 == 0:\n",
    "        return True\n",
    "    else:\n",
    "        return False\n",
    "        \n",
    "n = int(input('Digite um número: '))\n",
    "if par(n) == True:\n",
    "    print(f'O valor {n} é par!')\n",
    "else:\n",
    "    print(f'O valor {n} é impar!')\n",
    "\n"
   ]
  }
 ],
 "metadata": {
  "kernelspec": {
   "display_name": "Python 3",
   "language": "python",
   "name": "python3"
  },
  "language_info": {
   "codemirror_mode": {
    "name": "ipython",
    "version": 3
   },
   "file_extension": ".py",
   "mimetype": "text/x-python",
   "name": "python",
   "nbconvert_exporter": "python",
   "pygments_lexer": "ipython3",
   "version": "3.13.3"
  }
 },
 "nbformat": 4,
 "nbformat_minor": 5
}
