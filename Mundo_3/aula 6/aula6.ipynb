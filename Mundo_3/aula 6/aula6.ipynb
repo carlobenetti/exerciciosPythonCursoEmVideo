{
 "cells": [
  {
   "cell_type": "markdown",
   "id": "d1cea5d1",
   "metadata": {},
   "source": [
    "### Interactive help"
   ]
  },
  {
   "cell_type": "code",
   "execution_count": null,
   "id": "bfd84057",
   "metadata": {},
   "outputs": [
    {
     "ename": "",
     "evalue": "",
     "output_type": "error",
     "traceback": [
      "\u001b[1;31mRunning cells with 'Python 3.12.7' requires the ipykernel package.\n",
      "\u001b[1;31m<a href='command:jupyter.createPythonEnvAndSelectController'>Create a Python Environment</a> with the required packages."
     ]
    }
   ],
   "source": [
    "help(print)"
   ]
  },
  {
   "cell_type": "code",
   "execution_count": null,
   "id": "f9b3927b",
   "metadata": {},
   "outputs": [],
   "source": [
    "print(input.__doc__)"
   ]
  }
 ],
 "metadata": {
  "kernelspec": {
   "display_name": "Python 3",
   "language": "python",
   "name": "python3"
  },
  "language_info": {
   "name": "python",
   "version": "3.12.7"
  }
 },
 "nbformat": 4,
 "nbformat_minor": 5
}
