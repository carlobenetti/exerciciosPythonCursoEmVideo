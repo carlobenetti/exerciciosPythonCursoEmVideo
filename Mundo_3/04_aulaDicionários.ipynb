{
 "cells": [
  {
   "cell_type": "markdown",
   "metadata": {},
   "source": [
    "# Dicionários {}"
   ]
  },
  {
   "cell_type": "markdown",
   "metadata": {},
   "source": [
    "### dados = dicyt()\n",
    "### dados = {}"
   ]
  },
  {
   "cell_type": "code",
   "execution_count": 18,
   "metadata": {},
   "outputs": [
    {
     "name": "stdout",
     "output_type": "stream",
     "text": [
      "Pedro\n",
      "25\n",
      "M\n"
     ]
    }
   ],
   "source": [
    "dados = {'nome': 'Pedro', 'idade': 25}\n",
    "dados['sexo'] = 'M'\n",
    "print(dados['nome'])\n",
    "print(dados['idade'])\n",
    "print(dados['sexo'])\n"
   ]
  },
  {
   "cell_type": "code",
   "execution_count": 19,
   "metadata": {},
   "outputs": [],
   "source": [
    "filme = {\n",
    "    'titulo': 'Todo mundo em pánico',\n",
    "    'diretor': 'Jorge Lucas',\n",
    "    'ano': '2004',\n",
    "    }"
   ]
  },
  {
   "cell_type": "markdown",
   "metadata": {},
   "source": [
    "### .items()"
   ]
  },
  {
   "cell_type": "code",
   "execution_count": 25,
   "metadata": {},
   "outputs": [
    {
     "name": "stdout",
     "output_type": "stream",
     "text": [
      "dict_items([('titulo', 'Todo mundo em pánico'), ('diretor', 'Jorge Lucas'), ('ano', '2004')])\n"
     ]
    }
   ],
   "source": [
    "print(filme.items())"
   ]
  },
  {
   "cell_type": "markdown",
   "metadata": {},
   "source": [
    "### .keys()"
   ]
  },
  {
   "cell_type": "code",
   "execution_count": 20,
   "metadata": {},
   "outputs": [
    {
     "name": "stdout",
     "output_type": "stream",
     "text": [
      "dict_keys(['titulo', 'diretor', 'ano'])\n"
     ]
    }
   ],
   "source": [
    "print(filme.keys())"
   ]
  },
  {
   "cell_type": "markdown",
   "metadata": {},
   "source": [
    "### .values()"
   ]
  },
  {
   "cell_type": "code",
   "execution_count": 21,
   "metadata": {},
   "outputs": [
    {
     "name": "stdout",
     "output_type": "stream",
     "text": [
      "dict_values(['Todo mundo em pánico', 'Jorge Lucas', '2004'])\n"
     ]
    }
   ],
   "source": [
    "print(filme.values())"
   ]
  },
  {
   "cell_type": "markdown",
   "metadata": {},
   "source": [
    "######################################################################################################################"
   ]
  },
  {
   "cell_type": "code",
   "execution_count": 23,
   "metadata": {},
   "outputs": [
    {
     "name": "stdout",
     "output_type": "stream",
     "text": [
      "{'filme': 'Starwars', 'ano': 2018, 'diretor': 'Jorge Lucas'}\n",
      "{'filme': 'Starwars', 'ano': 2017, 'diretor': 'Jorge Lucas'}\n",
      "{'filme': 'Starwars', 'ano': 2015, 'diretor': 'Jorge Lucas'}\n"
     ]
    }
   ],
   "source": [
    "locadora = [{\n",
    "    'filme': 'Starwars',\n",
    "    'ano': 2018,\n",
    "    'diretor': 'Jorge Lucas'\n",
    "}, \n",
    "{\n",
    "    'filme': 'Starwars',\n",
    "    'ano': 2017,\n",
    "    'diretor': 'Jorge Lucas'\n",
    "},\n",
    "{\n",
    "    'filme': 'Starwars',\n",
    "    'ano': 2015,\n",
    "    'diretor': 'Jorge Lucas'\n",
    "}\n",
    "]\n",
    "\n",
    "\n",
    "for v in locadora:\n",
    "    print(v)"
   ]
  },
  {
   "cell_type": "code",
   "execution_count": 24,
   "metadata": {},
   "outputs": [
    {
     "name": "stdout",
     "output_type": "stream",
     "text": [
      "Ola visitante Gustavo. \n",
      "Bem vindo a Vila do chaves, espero que esteja bem.\n",
      "Percebi que você possui 22 anos e é um homem. \n",
      "dict_items([('nome', 'Gustavo'), ('sexo', 'M'), ('idade', 22), ('spawn_location', 'Vila do chaves')])\n"
     ]
    }
   ],
   "source": [
    "genero = ''\n",
    "pessoas = {'nome': 'Gustavo', 'sexo': 'M', 'idade': 22, 'spawn_location': 'Vila do chaves'}\n",
    "\n",
    "print(f\"Ola visitante {pessoas['nome']}. \\nBem vindo a {pessoas['spawn_location']}, espero que esteja bem.\")\n",
    "\n",
    "\n",
    "if pessoas['sexo']  == 'M':\n",
    "    genero = 'um homem'\n",
    "elif pessoas['sexo']  == 'F':\n",
    "    genero = 'uma mulher'\n",
    "\n",
    "print(f\"Percebi que você possui {pessoas['idade']} anos e é {genero}. \")\n",
    "\n",
    "print(pessoas.items())"
   ]
  }
 ],
 "metadata": {
  "kernelspec": {
   "display_name": "venv",
   "language": "python",
   "name": "python3"
  },
  "language_info": {
   "codemirror_mode": {
    "name": "ipython",
    "version": 3
   },
   "file_extension": ".py",
   "mimetype": "text/x-python",
   "name": "python",
   "nbconvert_exporter": "python",
   "pygments_lexer": "ipython3",
   "version": "3.12.3"
  }
 },
 "nbformat": 4,
 "nbformat_minor": 2
}
