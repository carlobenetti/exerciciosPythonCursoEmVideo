{
 "cells": [
  {
   "cell_type": "markdown",
   "metadata": {},
   "source": [
    "# Dicionários {}"
   ]
  },
  {
   "cell_type": "markdown",
   "metadata": {},
   "source": [
    "### dados = dicyt()\n",
    "### dados = {}"
   ]
  },
  {
   "cell_type": "code",
   "execution_count": 2,
   "metadata": {},
   "outputs": [
    {
     "name": "stdout",
     "output_type": "stream",
     "text": [
      "Pedro\n",
      "25\n",
      "M\n"
     ]
    }
   ],
   "source": [
    "dados = {'nome': 'Pedro', 'idade': 25}\n",
    "dados['sexo'] = 'M'\n",
    "print(dados['nome'])\n",
    "print(dados['idade'])\n",
    "print(dados['sexo'])\n"
   ]
  },
  {
   "cell_type": "code",
   "execution_count": 3,
   "metadata": {},
   "outputs": [],
   "source": [
    "filme = {\n",
    "    'titulo': 'Todo mundo em pánico',\n",
    "    'diretor': 'Jorge Lucas',\n",
    "    'ano': '2004',\n",
    "    }"
   ]
  },
  {
   "cell_type": "markdown",
   "metadata": {},
   "source": [
    "### .items()"
   ]
  },
  {
   "cell_type": "code",
   "execution_count": 4,
   "metadata": {},
   "outputs": [
    {
     "name": "stdout",
     "output_type": "stream",
     "text": [
      "dict_items([('titulo', 'Todo mundo em pánico'), ('diretor', 'Jorge Lucas'), ('ano', '2004')])\n"
     ]
    }
   ],
   "source": [
    "print(filme.items())"
   ]
  },
  {
   "cell_type": "markdown",
   "metadata": {},
   "source": [
    "### .keys()"
   ]
  },
  {
   "cell_type": "code",
   "execution_count": 5,
   "metadata": {},
   "outputs": [
    {
     "name": "stdout",
     "output_type": "stream",
     "text": [
      "dict_keys(['titulo', 'diretor', 'ano'])\n"
     ]
    }
   ],
   "source": [
    "print(filme.keys())"
   ]
  },
  {
   "cell_type": "markdown",
   "metadata": {},
   "source": [
    "### .values()"
   ]
  },
  {
   "cell_type": "code",
   "execution_count": 6,
   "metadata": {},
   "outputs": [
    {
     "name": "stdout",
     "output_type": "stream",
     "text": [
      "dict_values(['Todo mundo em pánico', 'Jorge Lucas', '2004'])\n"
     ]
    }
   ],
   "source": [
    "print(filme.values())"
   ]
  },
  {
   "cell_type": "code",
   "execution_count": 7,
   "metadata": {},
   "outputs": [
    {
     "name": "stdout",
     "output_type": "stream",
     "text": [
      "{'diretor': 'Jorge Lucas', 'ano': '2004', 'nome_popular': 'Acertando as coisas'}\n"
     ]
    }
   ],
   "source": [
    "del filme['titulo']\n",
    "filme['nome_popular'] = 'Acertando as coisas'\n",
    "print(filme)"
   ]
  },
  {
   "cell_type": "markdown",
   "metadata": {},
   "source": [
    "######################################################################################################################"
   ]
  },
  {
   "cell_type": "code",
   "execution_count": null,
   "metadata": {},
   "outputs": [],
   "source": []
  },
  {
   "cell_type": "markdown",
   "metadata": {},
   "source": [
    "######################################################################################################################"
   ]
  },
  {
   "cell_type": "code",
   "execution_count": 8,
   "metadata": {},
   "outputs": [
    {
     "name": "stdout",
     "output_type": "stream",
     "text": [
      "{'filme': 'Starwars', 'ano': 2018, 'diretor': 'Jorge Lucas'}\n",
      "{'filme': 'Starwars', 'ano': 2017, 'diretor': 'Jorge Lucas'}\n",
      "{'filme': 'Starwars', 'ano': 2015, 'diretor': 'Jorge Lucas'}\n"
     ]
    }
   ],
   "source": [
    "locadora = [{\n",
    "    'filme': 'Starwars',\n",
    "    'ano': 2018,\n",
    "    'diretor': 'Jorge Lucas'\n",
    "}, \n",
    "{\n",
    "    'filme': 'Starwars',\n",
    "    'ano': 2017,\n",
    "    'diretor': 'Jorge Lucas'\n",
    "},\n",
    "{\n",
    "    'filme': 'Starwars',\n",
    "    'ano': 2015,\n",
    "    'diretor': 'Jorge Lucas'\n",
    "}\n",
    "]\n",
    "\n",
    "\n",
    "for v in locadora:\n",
    "    print(v)"
   ]
  },
  {
   "cell_type": "code",
   "execution_count": 9,
   "metadata": {},
   "outputs": [
    {
     "name": "stdout",
     "output_type": "stream",
     "text": [
      "Ola visitante Gustavo. \n",
      "Bem vindo a Vila do chaves, espero que esteja bem.\n",
      "Percebi que você possui 22 anos e é um homem. \n",
      "dict_items([('nome', 'Gustavo'), ('sexo', 'M'), ('idade', 22), ('spawn_location', 'Vila do chaves')])\n"
     ]
    }
   ],
   "source": [
    "genero = ''\n",
    "pessoas = {'nome': 'Gustavo', 'sexo': 'M', 'idade': 22, 'spawn_location': 'Vila do chaves'}\n",
    "\n",
    "print(f\"Ola visitante {pessoas['nome']}. \\nBem vindo a {pessoas['spawn_location']}, espero que esteja bem.\")\n",
    "\n",
    "\n",
    "if pessoas['sexo']  == 'M':\n",
    "    genero = 'um homem'\n",
    "elif pessoas['sexo']  == 'F':\n",
    "    genero = 'uma mulher'\n",
    "\n",
    "print(f\"Percebi que você possui {pessoas['idade']} anos e é {genero}. \")\n",
    "\n",
    "print(pessoas.items())"
   ]
  },
  {
   "cell_type": "markdown",
   "metadata": {},
   "source": [
    "######################################################################################################################"
   ]
  },
  {
   "cell_type": "markdown",
   "metadata": {},
   "source": [
    "# Dicionário dentro de uma lista:"
   ]
  },
  {
   "cell_type": "code",
   "execution_count": 28,
   "metadata": {},
   "outputs": [
    {
     "name": "stdout",
     "output_type": "stream",
     "text": [
      "RJ\n"
     ]
    }
   ],
   "source": [
    "brasil = []\n",
    "\n",
    "estado1 = {\n",
    "    'uf': 'Rio de Janeiro',\n",
    "    'sigla': 'RJ',\n",
    "}\n",
    "\n",
    "estado2 = {\n",
    "    'uf': 'Mato Grosso',\n",
    "    'sigla': 'MT'\n",
    "}\n",
    "\n",
    "brasil.append(estado1)\n",
    "brasil.append(estado2)\n",
    "\n",
    "print(brasil[0]['sigla'])\n"
   ]
  },
  {
   "cell_type": "markdown",
   "metadata": {},
   "source": [
    "### Alimentando uma lista com dicionários"
   ]
  },
  {
   "cell_type": "code",
   "execution_count": 8,
   "metadata": {},
   "outputs": [
    {
     "name": "stdout",
     "output_type": "stream",
     "text": [
      "O campo nome tem valor C\n",
      "O campo espectativa de vida tem valor 30.0\n",
      "O campo PIB (bi U$) tem valor 13\n",
      "O campo população tem valor 20\n",
      "\n",
      "O campo nome tem valor Mar\n",
      "O campo espectativa de vida tem valor 40.0\n",
      "O campo PIB (bi U$) tem valor 20\n",
      "O campo população tem valor 14\n",
      "\n"
     ]
    }
   ],
   "source": [
    "cidade = {}\n",
    "estado = []\n",
    "\n",
    "for c in range(0, 2):\n",
    "    cidade['nome'] = str(input('Nome da cidade: '))\n",
    "    cidade['espectativa de vida'] = float(input('Espectativa de vida: '))\n",
    "    cidade['PIB (bi U$)'] = int(input('PIB (bi U$): '))\n",
    "    cidade['população'] = str(input('População total: '))\n",
    "    estado.append(cidade.copy())\n",
    "\n",
    "for l in estado: # Lista\n",
    "    for k, v in l.items():\n",
    "        print(f'O campo {k} tem valor {v}')\n",
    "    print()\n",
    "\n"
   ]
  },
  {
   "cell_type": "code",
   "execution_count": 2,
   "metadata": {},
   "outputs": [],
   "source": [
    "cidade = str(input('Digite a cidade: '))"
   ]
  }
 ],
 "metadata": {
  "kernelspec": {
   "display_name": "venv",
   "language": "python",
   "name": "python3"
  },
  "language_info": {
   "codemirror_mode": {
    "name": "ipython",
    "version": 3
   },
   "file_extension": ".py",
   "mimetype": "text/x-python",
   "name": "python",
   "nbconvert_exporter": "python",
   "pygments_lexer": "ipython3",
   "version": "3.12.3"
  }
 },
 "nbformat": 4,
 "nbformat_minor": 2
}
